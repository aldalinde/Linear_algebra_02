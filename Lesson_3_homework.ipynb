{
 "cells": [
  {
   "cell_type": "markdown",
   "metadata": {
    "colab_type": "text",
    "id": "HPMpEWusIIIM"
   },
   "source": [
    "# Урок 3"
   ]
  },
  {
   "cell_type": "markdown",
   "metadata": {
    "colab_type": "text",
    "id": "USFuS5Q1IIIP"
   },
   "source": [
    "# Матрицы и матричные операции. Часть 1"
   ]
  },
  {
   "cell_type": "markdown",
   "metadata": {
    "colab_type": "text",
    "id": "VAmOu--LIILw"
   },
   "source": [
    "## Практическое задание"
   ]
  },
  {
   "cell_type": "markdown",
   "metadata": {
    "colab_type": "text",
    "id": "APeDlmh8IIL1"
   },
   "source": [
    "Все задания рекомендуется делать вручную, затем проверяя полученные результаты с использованием numpy.\n",
    "\n",
    "__1.__ Установить, какие произведения матриц $AB$ и $BA$ определены, и найти размерности полученных матриц:\n",
    "\n",
    "   а) $A$ — матрица $4\\times 2$, $B$ — матрица $4\\times 2$;\n"
   ]
  },
  {
   "cell_type": "markdown",
   "metadata": {},
   "source": [
    "С данной размерностью произведения не определены. Если только транспонировать одну из матриц:\n",
    "   - А.Т * В , В.Т * А  размерность 2 * 2 \n",
    "   - и А * В.Т , В * А.Т размерность 4 * 4"
   ]
  },
  {
   "cell_type": "markdown",
   "metadata": {},
   "source": [
    "б) $A$ — матрица $2\\times 5$, $B$ — матрица $5\\times 3$;"
   ]
  },
  {
   "cell_type": "markdown",
   "metadata": {},
   "source": [
    "- С данной размерностью произведения не определены."
   ]
  },
  {
   "cell_type": "markdown",
   "metadata": {},
   "source": [
    " в) $A$ — матрица $8\\times 3$, $B$ — матрица $3\\times 8$;"
   ]
  },
  {
   "cell_type": "markdown",
   "metadata": {},
   "source": [
    "- Определены произведения:\n",
    "А * В, размерность 8 * 8,\n",
    "В * А, размерность 3 * 3"
   ]
  },
  {
   "cell_type": "markdown",
   "metadata": {},
   "source": [
    "г) $A$ — квадратная матрица $4\\times 4$, $B$ — квадратная матрица $4\\times 4$."
   ]
  },
  {
   "cell_type": "markdown",
   "metadata": {},
   "source": [
    "- А * В, В * А квадратные матрицы размерности 4 * 4"
   ]
  },
  {
   "cell_type": "markdown",
   "metadata": {},
   "source": [
    "__2.__ Найти сумму и произведение матриц $A=\\begin{pmatrix}\n",
    "1 & -2\\\\ \n",
    "3 & 0\n",
    "\\end{pmatrix}$ и $B=\\begin{pmatrix}\n",
    "4 & -1\\\\ \n",
    "0 & 5\n",
    "\\end{pmatrix}.$\n"
   ]
  },
  {
   "cell_type": "markdown",
   "metadata": {},
   "source": [
    "$A + B =\\begin{pmatrix}\n",
    "5 & -3\\\\ \n",
    "3 & 5\n",
    "\\end{pmatrix}$"
   ]
  },
  {
   "cell_type": "markdown",
   "metadata": {},
   "source": [
    "$4, -1 - 10, 12, -3$ ; $ 4-3, -8, 15, 0 $\n",
    "$$ A * B = \\begin{pmatrix}\n",
    "4 & -11\\\\ \n",
    "12 & -3\n",
    "\\end{pmatrix}\n",
    "B * A = \\begin{pmatrix}\n",
    "1 & -8\\\\ \n",
    "15 & 0\n",
    "\\end{pmatrix}$$"
   ]
  },
  {
   "cell_type": "markdown",
   "metadata": {},
   "source": [
    "__3.__ Из закономерностей сложения и умножения матриц на число можно сделать вывод, что матрицы одного размера образуют линейное пространство. Вычислить линейную комбинацию $3A-2B+4C$ для матриц $A=\\begin{pmatrix}\n",
    "1 & 7\\\\ \n",
    "3 & -6\n",
    "\\end{pmatrix}$, $B=\\begin{pmatrix}\n",
    "0 & 5\\\\ \n",
    "2 & -1\n",
    "\\end{pmatrix}$, $C=\\begin{pmatrix}\n",
    "2 & -4\\\\ \n",
    "1 & 1\n",
    "\\end{pmatrix}.$\n"
   ]
  },
  {
   "cell_type": "markdown",
   "metadata": {},
   "source": [
    "$3A=\\begin{pmatrix}\n",
    "3 & 21\\\\ \n",
    "9 & -18\n",
    "\\end{pmatrix}$, $-2B=\\begin{pmatrix}\n",
    "0 & -10\\\\ \n",
    "-4 & 2\n",
    "\\end{pmatrix}$, $4C=\\begin{pmatrix}\n",
    "8 & -16\\\\ \n",
    "4 & 4\n",
    "\\end{pmatrix}.$\n"
   ]
  },
  {
   "cell_type": "markdown",
   "metadata": {},
   "source": [
    "$3A-2B+4C = \\begin{pmatrix}\n",
    "11 & -5\\\\ \n",
    "9 & -12\n",
    "\\end{pmatrix}$"
   ]
  },
  {
   "cell_type": "markdown",
   "metadata": {},
   "source": [
    "__4.__ Дана матрица $A=\\begin{pmatrix}\n",
    "4 & 1\\\\ \n",
    "5 & -2\\\\ \n",
    "2 & 3\n",
    "\\end{pmatrix}$.\n",
    "Вычислить $AA^{T}$ и $A^{T}A$.\n"
   ]
  },
  {
   "cell_type": "markdown",
   "metadata": {},
   "source": [
    "$A^{T}=\\begin{pmatrix}\n",
    "4 & 5 & 2\\\\ \n",
    "1 & -2 & 3\\\\\n",
    "\\end{pmatrix}$."
   ]
  },
  {
   "cell_type": "markdown",
   "metadata": {},
   "source": [
    "$ 16+1, 20-2, 8+3, 20-2, 25+4, 10-6, 8+3,10-6,6+9$\n",
    "$$AA^{T} = \\begin{pmatrix}\n",
    "17 & 18 & 11\\\\ \n",
    "18 & 29 & 4\\\\\n",
    "11 & 4 & 15\\\\\n",
    "\\end{pmatrix}$$\n",
    "$ 16+25+4, 4-10+6, 4-10+6, 1+4+9$\n",
    "$$A^{T}A = \\begin{pmatrix}\n",
    "45 & 0 \\\\ \n",
    "0 & 14\\\\\n",
    "\\end{pmatrix}$$"
   ]
  },
  {
   "cell_type": "markdown",
   "metadata": {},
   "source": [
    "__5*.__ Написать на Python функцию для перемножения двух произвольных матриц, не используя NumPy."
   ]
  },
  {
   "cell_type": "code",
   "execution_count": 1,
   "metadata": {},
   "outputs": [],
   "source": [
    "mat_1 = [[11,5,6,7],[4,2,9,1],[8,0,10,3]]\n",
    "mat_2 = [[-8, -5, -12],[-3, -9, -7],[-1, -4, -11],[-2, -6,-10]]"
   ]
  },
  {
   "cell_type": "code",
   "execution_count": 2,
   "metadata": {},
   "outputs": [],
   "source": [
    "num_of_rows = len(mat_1)\n",
    "num_of_columns = len(mat_1[1])"
   ]
  },
  {
   "cell_type": "code",
   "execution_count": 3,
   "metadata": {},
   "outputs": [
    {
     "data": {
      "text/plain": [
       "4"
      ]
     },
     "execution_count": 3,
     "metadata": {},
     "output_type": "execute_result"
    }
   ],
   "source": [
    "len(mat_2)"
   ]
  },
  {
   "cell_type": "code",
   "execution_count": 4,
   "metadata": {},
   "outputs": [],
   "source": [
    "def multiply_matrix(m_1, m_2):\n",
    "    if len(m_1)==len(m_2[0]) and len(m_2)==len(m_1[0]):\n",
    "        # transp matrix m_2\n",
    "        m_2_t = []\n",
    "        for i in range (len(m_2[0])):\n",
    "            row =[]\n",
    "            for r in m_2:\n",
    "                row.append(r[i])\n",
    "            m_2_t.append(row)\n",
    "            \n",
    "        m_3 = []\n",
    "        for row in m_1:\n",
    "            new_row = []\n",
    "            for column in m_2_t:\n",
    "                c = sum([row[num]*column[num] for num in range (len(row))])\n",
    "                new_row.append(c)\n",
    "            m_3.append(new_row)\n",
    "        \n",
    "        return m_3\n",
    "    else:\n",
    "        print(\"matrixs' rows and columns don't match\")\n",
    "        return None\n"
   ]
  },
  {
   "cell_type": "code",
   "execution_count": 5,
   "metadata": {},
   "outputs": [],
   "source": [
    "mat_3 = multiply_matrix(mat_1, mat_2)"
   ]
  },
  {
   "cell_type": "code",
   "execution_count": 6,
   "metadata": {},
   "outputs": [
    {
     "name": "stdout",
     "output_type": "stream",
     "text": [
      "[[-123, -166, -303], [-49, -80, -171], [-80, -98, -236]]\n"
     ]
    }
   ],
   "source": [
    "print(mat_3)"
   ]
  },
  {
   "cell_type": "code",
   "execution_count": 7,
   "metadata": {},
   "outputs": [],
   "source": [
    "# checking with numpy\n",
    "import numpy as np"
   ]
  },
  {
   "cell_type": "code",
   "execution_count": 8,
   "metadata": {},
   "outputs": [],
   "source": [
    "m_1 = np.array(mat_1)\n",
    "m_2 = np.array(mat_2)"
   ]
  },
  {
   "cell_type": "code",
   "execution_count": 9,
   "metadata": {},
   "outputs": [
    {
     "data": {
      "text/plain": [
       "array([[-123, -166, -303],\n",
       "       [ -49,  -80, -171],\n",
       "       [ -80,  -98, -236]])"
      ]
     },
     "execution_count": 9,
     "metadata": {},
     "output_type": "execute_result"
    }
   ],
   "source": [
    "m_3 = np.dot(m_1, m_2)\n",
    "m_3"
   ]
  },
  {
   "cell_type": "code",
   "execution_count": 10,
   "metadata": {},
   "outputs": [],
   "source": [
    "mat_4 = [[1,5,2,0,5],[4,2,3,1,-1],[2,-2,1,3,5]]\n",
    "mat_5 = [[-1, -9, -12],[-4, -9, -2],[-1, 0, -1],[-2, -6,-10],[3,1,-1]]"
   ]
  },
  {
   "cell_type": "code",
   "execution_count": 11,
   "metadata": {},
   "outputs": [],
   "source": [
    "mat_6 = multiply_matrix(mat_5, mat_4)"
   ]
  },
  {
   "cell_type": "code",
   "execution_count": 12,
   "metadata": {},
   "outputs": [
    {
     "data": {
      "text/plain": [
       "[[-61, 1, -41, -45, -56],\n",
       " [-44, -34, -37, -15, -21],\n",
       " [-3, -3, -3, -3, -10],\n",
       " [-46, -2, -32, -36, -54],\n",
       " [5, 19, 8, -2, 9]]"
      ]
     },
     "execution_count": 12,
     "metadata": {},
     "output_type": "execute_result"
    }
   ],
   "source": [
    "mat_6"
   ]
  },
  {
   "cell_type": "code",
   "execution_count": 13,
   "metadata": {},
   "outputs": [],
   "source": [
    "m_4 = np.array(mat_4)\n",
    "m_5 = np.array(mat_5)"
   ]
  },
  {
   "cell_type": "code",
   "execution_count": 14,
   "metadata": {},
   "outputs": [
    {
     "data": {
      "text/plain": [
       "array([[-61,   1, -41, -45, -56],\n",
       "       [-44, -34, -37, -15, -21],\n",
       "       [ -3,  -3,  -3,  -3, -10],\n",
       "       [-46,  -2, -32, -36, -54],\n",
       "       [  5,  19,   8,  -2,   9]])"
      ]
     },
     "execution_count": 14,
     "metadata": {},
     "output_type": "execute_result"
    }
   ],
   "source": [
    "m_6 = np.dot(m_5, m_4)\n",
    "m_6"
   ]
  },
  {
   "cell_type": "code",
   "execution_count": null,
   "metadata": {},
   "outputs": [],
   "source": []
  }
 ],
 "metadata": {
  "colab": {
   "collapsed_sections": [],
   "name": "Lesson_3-REVISED.ipynb",
   "provenance": []
  },
  "kernelspec": {
   "display_name": "Python 3",
   "language": "python",
   "name": "python3"
  },
  "language_info": {
   "codemirror_mode": {
    "name": "ipython",
    "version": 3
   },
   "file_extension": ".py",
   "mimetype": "text/x-python",
   "name": "python",
   "nbconvert_exporter": "python",
   "pygments_lexer": "ipython3",
   "version": "3.7.1"
  }
 },
 "nbformat": 4,
 "nbformat_minor": 1
}
