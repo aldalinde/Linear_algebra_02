{
 "cells": [
  {
   "cell_type": "markdown",
   "metadata": {
    "colab_type": "text",
    "id": "Spnt0b4tWtQd"
   },
   "source": [
    "# Урок 4"
   ]
  },
  {
   "cell_type": "markdown",
   "metadata": {
    "colab_type": "text",
    "id": "N7Ec4jnDWtQg"
   },
   "source": [
    "# Матрицы и матричные операции. Часть 2"
   ]
  },
  {
   "cell_type": "markdown",
   "metadata": {
    "colab_type": "text",
    "id": "NRcOh0gsWtUo"
   },
   "source": [
    "## Практическое задание"
   ]
  },
  {
   "cell_type": "code",
   "execution_count": 1,
   "metadata": {},
   "outputs": [],
   "source": [
    "import numpy as np"
   ]
  },
  {
   "cell_type": "markdown",
   "metadata": {
    "colab_type": "text",
    "id": "H3qXQfJ-WtUp"
   },
   "source": [
    "Все задания рекомендуется выполнять вручную, затем проверяя полученные результаты с использованием Numpy.\n",
    "\n",
    "__1.__ Вычислить определитель:\n",
    "\n",
    "   a) $A_1 =$\n",
    "\n",
    "$$\\begin{vmatrix}\n",
    "sinx & -cosx\\\\ \n",
    "cosx & sinx\n",
    "\\end{vmatrix};$$\n"
   ]
  },
  {
   "cell_type": "markdown",
   "metadata": {},
   "source": [
    "$ detA_1 = sin^2x + cos^2x = 1 $"
   ]
  },
  {
   "cell_type": "code",
   "execution_count": 2,
   "metadata": {},
   "outputs": [
    {
     "name": "stdout",
     "output_type": "stream",
     "text": [
      "Определитель:\n",
      "1\n"
     ]
    }
   ],
   "source": [
    "x = np.pi\n",
    "cos_x = np.cos(x)\n",
    "a_1 = np.array([[np.sin(x), -cos_x], [cos_x, np.sin(x)]])\n",
    "print(f'Определитель:\\n{np.linalg.det(a_1):.0f}')"
   ]
  },
  {
   "cell_type": "markdown",
   "metadata": {},
   "source": [
    "\n",
    "   б) $A_2 =$\n",
    "    \n",
    "$$\\begin{vmatrix}\n",
    "4 & 2 & 3\\\\ \n",
    "0 & 5 & 1\\\\ \n",
    "0 & 0 & 9\n",
    "\\end{vmatrix};$$\n",
    "    \n"
   ]
  },
  {
   "cell_type": "markdown",
   "metadata": {},
   "source": [
    "$A_2$ диагональная матрица\n",
    "$ det A_2 = 4 * 5* 9 =180$"
   ]
  },
  {
   "cell_type": "code",
   "execution_count": 3,
   "metadata": {},
   "outputs": [
    {
     "name": "stdout",
     "output_type": "stream",
     "text": [
      "Определитель:\n",
      "180\n"
     ]
    }
   ],
   "source": [
    "a_2 = np.array([[4,2,3], [0,5,1],[0,0,9]])\n",
    "print(f'Определитель:\\n{np.linalg.det(a_2):.0f}')"
   ]
  },
  {
   "cell_type": "markdown",
   "metadata": {},
   "source": [
    "   в) $A_3 =$\n",
    "\n",
    "$$\\begin{vmatrix}\n",
    "1 & 2 & 3\\\\ \n",
    "4 & 5 & 6\\\\ \n",
    "7 & 8 & 9\n",
    "\\end{vmatrix}.$$"
   ]
  },
  {
   "cell_type": "markdown",
   "metadata": {},
   "source": [
    " - У матрицы $ A_3$ линейно-зависимые столбцы, определитель должен быть равен 0\n",
    "$ 1*(5*9 - 6*8) - 2*(4*9-6*7) + 3*(4*8-7*5) = -3-2*(-6)+3*(-3)= -3 +12-9 = 0$"
   ]
  },
  {
   "cell_type": "code",
   "execution_count": 4,
   "metadata": {},
   "outputs": [
    {
     "data": {
      "text/plain": [
       "0"
      ]
     },
     "execution_count": 4,
     "metadata": {},
     "output_type": "execute_result"
    }
   ],
   "source": [
    "1*(5*9 - 6*8) - 2*(4*9-6*7) + 3*(4*8-7*5)"
   ]
  },
  {
   "cell_type": "code",
   "execution_count": 5,
   "metadata": {},
   "outputs": [
    {
     "name": "stdout",
     "output_type": "stream",
     "text": [
      "Определитель:\n",
      "0\n"
     ]
    }
   ],
   "source": [
    "a_3 = np.array([[1,2,3], [4,5,6],[7,8,9]])\n",
    "print(f'Определитель:\\n{np.linalg.det(a_3):.0f}')"
   ]
  },
  {
   "cell_type": "markdown",
   "metadata": {},
   "source": [
    "__2.__ Определитель матрицы $A$ равен $4$. Найти:\n",
    "\n",
    "   а) $det(A^{2})$ ;\n",
    "Для двух квадратных матриц одинакового размера $det(AB)=detA\\cdot detB.$ => $det(A^{2}) = detA \\cdot detA = 16 $\n",
    "    \n",
    "   б) $det(A^{T})$; Определитель транспонированной матрицы равен определителю исходной => $det(A^{T})=4$\n",
    "    \n",
    "   в) $det(2A)$. Умножение строки или столбца матрицы на число $\\lambda$ приведет к умножению определителя матрицы на то же число. =><br>\n",
    "               $ det(2A) = 4 \\cdot (2  $ в степени количества строк матрицы)"
   ]
  },
  {
   "cell_type": "code",
   "execution_count": 6,
   "metadata": {},
   "outputs": [
    {
     "name": "stdout",
     "output_type": "stream",
     "text": [
      "Матрица B =\n",
      "[[-1 -4  0 -2]\n",
      " [ 0  1  5  4]\n",
      " [ 3  1  1  0]\n",
      " [-1  0  2  2]]\n",
      "Определитель матрицы B = -12\n",
      " - 12 * (2 в степени количества строк матрицы) = -192.0\n",
      "Определитель  посредством функции библиотеи numpy: =-192\n"
     ]
    }
   ],
   "source": [
    "b = np.array([[-1, -4, 0, -2], [0, 1, 5, 4], [3, 1, 1, 0], [-1, 0, 2, 2]])\n",
    "print(f'Матрица B =\\n{b}')\n",
    "print(f'Определитель матрицы B = {np.linalg.det(b):.0f}')\n",
    "print(f' - 12 * (2 в степени количества строк матрицы) = {np.linalg.det(b) * (2**4)}')\n",
    "print(f'Определитель  посредством функции библиотеи numpy: ={np.linalg.det(2*b):.0f}')"
   ]
  },
  {
   "cell_type": "markdown",
   "metadata": {},
   "source": [
    "__3.__  Доказать, что матрица\n",
    "$$ С =\\begin{pmatrix}\n",
    "-2 & 7 & -3\\\\ \n",
    "4 & -14 & 6\\\\ \n",
    "-3 & 7 & 13\n",
    "\\end{pmatrix}$$\n",
    "   \n",
    "вырожденная.\n",
    " - в вырожденной матрице существует как минимум две строки (или два столбца), один из которых можно выразить через другой.\n",
    " В нашем случае строку№2 можно выразить через строку№1 * на скаляр = (- 2)  \n",
    " - ее определитель равен нулю:"
   ]
  },
  {
   "cell_type": "code",
   "execution_count": 7,
   "metadata": {},
   "outputs": [
    {
     "name": "stdout",
     "output_type": "stream",
     "text": [
      "Определитель С =0\n",
      "Определитель С =0\n"
     ]
    }
   ],
   "source": [
    "print(f'Определитель С ={-2*((-14*13) -(7*6)) - 7*(4*13- (-3*6)) + (-3*(4*7 - (-14*-3)))}')\n",
    "с = np.array([[-2, 7, -3], [4, -14, 6], [-3, 7, 13]])\n",
    "print(f'Определитель С ={np.linalg.det(с):.0f}')"
   ]
  },
  {
   "cell_type": "markdown",
   "metadata": {},
   "source": [
    "__4.__ Найти ранг матрицы:\n",
    "\n",
    "а) $D_1 = \\begin{pmatrix}\n",
    "1 & 2 & 3\\\\ \n",
    "1 & 1 & 1\\\\ \n",
    "2 & 3 & 4\n",
    "\\end{pmatrix};$"
   ]
  },
  {
   "cell_type": "markdown",
   "metadata": {},
   "source": [
    "- вектор-строка 3 = вектор-строка1 + вектор-строка 2 => ранг матрицы не равен 3\n",
    "- определитель минора второго порядка не равен 0 => матрица имеет ранг 2"
   ]
  },
  {
   "cell_type": "code",
   "execution_count": 8,
   "metadata": {},
   "outputs": [
    {
     "name": "stdout",
     "output_type": "stream",
     "text": [
      "Ранг матрицы D_1: 2\n"
     ]
    }
   ],
   "source": [
    "d_1 = np.array([[1, 2, 3], [1, 1, 1], [2, 3, 4]])\n",
    "r = np.linalg.matrix_rank(d_1)\n",
    "\n",
    "print(f'Ранг матрицы D_1: {r}')"
   ]
  },
  {
   "cell_type": "markdown",
   "metadata": {},
   "source": [
    "\n",
    "\n",
    "   б) $D_2= \\begin{pmatrix}\n",
    "0 & 0 & 2 & 1\\\\ \n",
    "0 & 0 & 2 & 2\\\\ \n",
    "0 & 0 & 4 & 3\\\\ \n",
    "2 & 3 & 5 & 6\n",
    "\\end{pmatrix}.$"
   ]
  },
  {
   "cell_type": "markdown",
   "metadata": {},
   "source": [
    "- третью строку можно исключить, так как она может быть получена сложением первых двух\n",
    "- определитель минора третьего порядка не равен 0 (равен 6) => матрица имеет ранг 3"
   ]
  },
  {
   "cell_type": "code",
   "execution_count": 9,
   "metadata": {},
   "outputs": [
    {
     "name": "stdout",
     "output_type": "stream",
     "text": [
      "Ранг матрицы D_2: 3\n"
     ]
    }
   ],
   "source": [
    "d_2 = np.array([[0, 0, 2, 1], [0, 0, 2, 2], [0, 0, 4, 3], [2, 3, 5, 6]])\n",
    "r_2 = np.linalg.matrix_rank(d_2)\n",
    "\n",
    "print(f'Ранг матрицы D_2: {r_2}')"
   ]
  },
  {
   "cell_type": "code",
   "execution_count": null,
   "metadata": {},
   "outputs": [],
   "source": []
  }
 ],
 "metadata": {
  "colab": {
   "collapsed_sections": [],
   "name": "Lesson_4-REVISED.ipynb",
   "provenance": []
  },
  "kernelspec": {
   "display_name": "Python 3",
   "language": "python",
   "name": "python3"
  },
  "language_info": {
   "codemirror_mode": {
    "name": "ipython",
    "version": 3
   },
   "file_extension": ".py",
   "mimetype": "text/x-python",
   "name": "python",
   "nbconvert_exporter": "python",
   "pygments_lexer": "ipython3",
   "version": "3.7.1"
  }
 },
 "nbformat": 4,
 "nbformat_minor": 1
}
